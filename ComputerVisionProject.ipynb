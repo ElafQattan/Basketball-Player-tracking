{
  "nbformat": 4,
  "nbformat_minor": 0,
  "metadata": {
    "colab": {
      "provenance": []
    },
    "kernelspec": {
      "name": "python3",
      "display_name": "Python 3"
    },
    "language_info": {
      "name": "python"
    }
  },
  "cells": [
    {
      "cell_type": "code",
      "execution_count": 5,
      "metadata": {
        "colab": {
          "base_uri": "https://localhost:8080/"
        },
        "id": "1HJ7dT_MODDA",
        "outputId": "8017898c-916c-4bc7-a897-02032be81390"
      },
      "outputs": [
        {
          "output_type": "stream",
          "name": "stdout",
          "text": [
            "Requirement already satisfied: opencv-python in /usr/local/lib/python3.10/dist-packages (4.8.0.76)\n",
            "Requirement already satisfied: numpy>=1.21.2 in /usr/local/lib/python3.10/dist-packages (from opencv-python) (1.25.2)\n"
          ]
        }
      ],
      "source": [
        "!pip install opencv-python\n",
        "import cv2"
      ]
    },
    {
      "cell_type": "code",
      "source": [
        "# Initialize background subtractor\n",
        "background_subtractor = cv2.createBackgroundSubtractorMOG2(history=500, varThreshold=16, detectShadows=False)\n",
        "\n",
        "# Initialize object tracker\n",
        "tracker = cv2.TrackerCSRT_create()\n"
      ],
      "metadata": {
        "id": "ozPcejpMOqd7"
      },
      "execution_count": 6,
      "outputs": []
    },
    {
      "cell_type": "code",
      "source": [
        "# Read video\n",
        "video_path = \"/content/basketball_game.mp4\"\n",
        "cap = cv2.VideoCapture(video_path)\n"
      ],
      "metadata": {
        "id": "kOYE4PtsOuq7"
      },
      "execution_count": 7,
      "outputs": []
    },
    {
      "cell_type": "code",
      "source": [
        "## Read first frame\n",
        "ret, frame = cap.read()\n",
        "if not ret:\n",
        "    print(\"Error: Cannot read video file.\")\n",
        "    exit()\n"
      ],
      "metadata": {
        "id": "0SmOn1ieOzUs"
      },
      "execution_count": 8,
      "outputs": []
    },
    {
      "cell_type": "code",
      "source": [
        "# Define region of interest (ROI) for player detection\n",
        "roi = cv2.selectROI(\"Select ROI\", frame, fromCenter=False, showCrosshair=True)\n",
        "cv2.destroyWindow(\"Select ROI\")"
      ],
      "metadata": {
        "id": "oElSmDzmO7i2"
      },
      "execution_count": null,
      "outputs": []
    },
    {
      "cell_type": "code",
      "source": [
        "# Initialize tracker with first frame and ROI\n",
        "tracker.init(frame, roi)\n",
        "\n",
        "while True:\n",
        "    # Read a new frame\n",
        "    ret, frame = cap.read()\n",
        "    if not ret:\n",
        "        break"
      ],
      "metadata": {
        "id": "qaYtPP0UPCxV"
      },
      "execution_count": null,
      "outputs": []
    },
    {
      "cell_type": "code",
      "source": [
        "# Apply background subtraction to detect moving objects (players)\n",
        "    fg_mask = background_subtractor.apply(frame)\n",
        ""
      ],
      "metadata": {
        "id": "EXxQAMXrPIPZ"
      },
      "execution_count": null,
      "outputs": []
    },
    {
      "cell_type": "code",
      "source": [
        " # Update tracker\n",
        "    ret, roi = tracker.update(frame)\n",
        "    if ret:\n",
        "        # Draw bounding box around tracked player\n",
        "        (x, y, w, h) = tuple(map(int, roi))\n",
        "        cv2.rectangle(frame, (x, y), (x + w, y + h), (0, 255, 0), 2)\n",
        ""
      ],
      "metadata": {
        "id": "iZ1m8_JpPIYd"
      },
      "execution_count": null,
      "outputs": []
    },
    {
      "cell_type": "code",
      "source": [
        "# Display frame\n",
        "    cv2.imshow(\"Frame\", frame)\n",
        ""
      ],
      "metadata": {
        "id": "C535FCiuPIin"
      },
      "execution_count": null,
      "outputs": []
    },
    {
      "cell_type": "code",
      "source": [
        " # Exit if 'q' is pressed\n",
        "    if cv2.waitKey(30) & 0xFF == ord('q'):\n",
        "        break\n",
        "\n",
        "# Release video capture\n",
        "cap.release()\n",
        "cv2.destroyAllWindows()\n"
      ],
      "metadata": {
        "id": "kdFoEJzlPOKM"
      },
      "execution_count": null,
      "outputs": []
    }
  ]
}